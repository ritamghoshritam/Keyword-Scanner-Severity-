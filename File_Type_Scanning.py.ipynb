{
 "cells": [
  {
   "cell_type": "code",
   "execution_count": 12,
   "metadata": {},
   "outputs": [
    {
     "name": "stdout",
     "output_type": "stream",
     "text": [
      "\n",
      "Part 1: Scanning \n",
      "\n",
      "/home/end3c0d3r/Desktop/P2/Untitled2.ipynb\n",
      "/home/end3c0d3r/Desktop/P2/jb.txt\n",
      "/home/end3c0d3r/Desktop/P2/keyword_extract_with_weight.py\n",
      "/home/end3c0d3r/Desktop/P2/keyword_extract_with_weight.ipynb\n",
      "/home/end3c0d3r/Desktop/P2/test.pdf\n",
      "/home/end3c0d3r/Desktop/P2/Untitled1.ipynb\n",
      "/home/end3c0d3r/Desktop/P2/File_Type_Scanning.py.ipynb\n",
      "/home/end3c0d3r/Desktop/P2/readme.md\n",
      "/home/end3c0d3r/Desktop/P2/sample.py.ipynb\n",
      "/home/end3c0d3r/Desktop/P2/.ipynb_checkpoints\n",
      "/home/end3c0d3r/Desktop/P2/Keywords.csv\n",
      "/home/end3c0d3r/Desktop/P2/Untitled.ipynb\n",
      "/home/end3c0d3r/Desktop/P2/textract-1.6.1.tar.gz\n",
      "/home/end3c0d3r/Desktop/P2/JavaBasics-notes.pdf\n",
      "\n",
      "Part 2: Extension Scanning \n",
      "\n",
      "test.pdf\n",
      "JavaBasics-notes.pdf\n",
      "\n",
      "Part 3: Keyword Scanning\n",
      "\n",
      "{b'java': 135, b'in': 369}\n"
     ]
    }
   ],
   "source": [
    "import os\n",
    "import fnmatch\n",
    "\n",
    "import pandas as pd\n",
    "import numpy as np\n",
    "import PyPDF2\n",
    "import textract\n",
    "import re\n",
    "\n",
    "import pathlib\n",
    "\n",
    "print(\"\\nPart 1: Scanning \\n\")\n",
    "\n",
    "currentDirectory = pathlib.Path('/home/end3c0d3r/Desktop/P2')\n",
    "\n",
    "for currentFile in currentDirectory.iterdir():  \n",
    "    print(currentFile)\n",
    "    \n",
    "print(\"\\nPart 2: Extension Scanning \\n\")    \n",
    "\n",
    "    \n",
    "listOfFiles = os.listdir('/home/end3c0d3r/Desktop/P2')  \n",
    "pattern = \"*.pdf\"  \n",
    "for entry in listOfFiles:  \n",
    "    if fnmatch.fnmatch(entry, pattern):\n",
    "            print (entry)\n",
    "                 \n",
    "print(\"\\nPart 3: Keyword Scanning\\n\")\n",
    "\n",
    "filename ='JavaBasics-notes.pdf' \n",
    "\n",
    "pdfFileObj = open(filename,'rb')               \n",
    "pdfReader = PyPDF2.PdfFileReader(pdfFileObj)   \n",
    "num_pages = pdfReader.numPages                 \n",
    "\n",
    "\n",
    "count = 0\n",
    "text = \"\"\n",
    "                                                            \n",
    "while count < num_pages:                       \n",
    "    pageObj = pdfReader.getPage(count)\n",
    "    count +=1\n",
    "    text += pageObj.extractText()\n",
    "    \n",
    "if text != \"\":\n",
    "    text = text\n",
    " \n",
    "else:\n",
    "    text = textract.process('http://bit.ly/epo_keyword_extraction_document', method='tesseract', language='eng')\n",
    "\n",
    "\n",
    "text = text.encode('ascii','ignore').lower()\n",
    "l=[\"java\",\"in\"]\n",
    "d={}\n",
    "for i in l:\n",
    "    i=bytes(i, \"utf8\")\n",
    "    keywords = re.findall(i,text)\n",
    "    d[i]=len(keywords)\n",
    "print(d)\n",
    "\n",
    "\n"
   ]
  },
  {
   "cell_type": "code",
   "execution_count": null,
   "metadata": {},
   "outputs": [],
   "source": [
    "import os, fnmatch\n",
    "\n",
    "listOfFiles = os.listdir('/home/end3c0d3r/Desktop/P2')  \n",
    "pattern = \"*.pdf\"  \n",
    "for entry in listOfFiles:  \n",
    "    if fnmatch.fnmatch(entry, pattern):\n",
    "            print (entry)"
   ]
  },
  {
   "cell_type": "code",
   "execution_count": null,
   "metadata": {},
   "outputs": [],
   "source": [
    "import pathlib\n",
    "\n",
    "currentDirectory = pathlib.Path('/home/end3c0d3r/Desktop/P2')\n",
    "\n",
    "for currentFile in currentDirectory.iterdir():  \n",
    "    print(currentFile)"
   ]
  }
 ],
 "metadata": {
  "kernelspec": {
   "display_name": "Python 3",
   "language": "python",
   "name": "python3"
  },
  "language_info": {
   "codemirror_mode": {
    "name": "ipython",
    "version": 3
   },
   "file_extension": ".py",
   "mimetype": "text/x-python",
   "name": "python",
   "nbconvert_exporter": "python",
   "pygments_lexer": "ipython3",
   "version": "3.6.8"
  }
 },
 "nbformat": 4,
 "nbformat_minor": 2
}
