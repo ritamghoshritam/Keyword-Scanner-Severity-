{
 "cells": [
  {
   "cell_type": "code",
   "execution_count": 1,
   "metadata": {},
   "outputs": [
    {
     "name": "stdout",
     "output_type": "stream",
     "text": [
      "this is page 0\n",
      "None\n",
      "this is page 1\n",
      "None\n",
      "this is page 2\n",
      "None\n",
      "this is page 3\n",
      "None\n",
      "this is page 4\n",
      "None\n",
      "this is page 5\n",
      "None\n",
      "this is page 6\n",
      "None\n",
      "this is page 7\n",
      "None\n",
      "this is page 8\n",
      "None\n",
      "this is page 9\n",
      "None\n",
      "this is page 10\n",
      "None\n",
      "this is page 11\n",
      "None\n",
      "this is page 12\n",
      "None\n",
      "this is page 13\n",
      "None\n"
     ]
    }
   ],
   "source": [
    "# import packages\n",
    "import PyPDF2\n",
    "import re\n",
    "\n",
    "# open the pdf file\n",
    "object = PyPDF2.PdfFileReader(\"test.pdf\")\n",
    "\n",
    "# get number of pages\n",
    "NumPages = object.getNumPages()\n",
    "\n",
    "# define keyterms\n",
    "String = \"the\"\n",
    "\n",
    "# extract text and do the search\n",
    "for i in range(0, NumPages):\n",
    "    PageObj = object.getPage(i)\n",
    "    print(\"this is page \" + str(i)) \n",
    "    Text = PageObj.extractText() \n",
    "    # print(Text)\n",
    "    ResSearch = re.search(String, Text)\n",
    "    print(ResSearch)"
   ]
  },
  {
   "cell_type": "code",
   "execution_count": 4,
   "metadata": {},
   "outputs": [
    {
     "name": "stdout",
     "output_type": "stream",
     "text": [
      "\n",
      "The following command must be run outside of the IPython shell:\n",
      "\n",
      "    $ pip install textract\n",
      "\n",
      "The Python package manager (pip) can only be used from outside of IPython.\n",
      "Please reissue the `pip` command in a separate terminal or command prompt.\n",
      "\n",
      "See the Python documentation for more information on how to install packages:\n",
      "\n",
      "    https://docs.python.org/3/installing/\n"
     ]
    }
   ],
   "source": [
    "pip install textract\n"
   ]
  },
  {
   "cell_type": "code",
   "execution_count": null,
   "metadata": {},
   "outputs": [],
   "source": []
  },
  {
   "cell_type": "code",
   "execution_count": null,
   "metadata": {},
   "outputs": [],
   "source": []
  }
 ],
 "metadata": {
  "kernelspec": {
   "display_name": "Python 3",
   "language": "python",
   "name": "python3"
  },
  "language_info": {
   "codemirror_mode": {
    "name": "ipython",
    "version": 3
   },
   "file_extension": ".py",
   "mimetype": "text/x-python",
   "name": "python",
   "nbconvert_exporter": "python",
   "pygments_lexer": "ipython3",
   "version": "3.6.8"
  }
 },
 "nbformat": 4,
 "nbformat_minor": 2
}
